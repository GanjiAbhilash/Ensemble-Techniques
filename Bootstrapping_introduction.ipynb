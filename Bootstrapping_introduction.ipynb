{
 "cells": [
  {
   "cell_type": "code",
   "execution_count": 4,
   "metadata": {},
   "outputs": [
    {
     "name": "stdout",
     "output_type": "stream",
     "text": [
      "Train_data -> [10, 50, 40, 30, 20, 40, 60, 30, 70, 60]   Test_data -> [ 80  90 100]\n",
      "Train_data -> [40, 100, 10, 80, 70, 10, 50, 30, 20, 100]   Test_data -> [60 90]\n",
      "Train_data -> [70, 100, 100, 60, 80, 10, 70, 50, 20, 70]   Test_data -> [30 40 90]\n",
      "Train_data -> [40, 100, 40, 20, 10, 40, 50, 40, 40, 50]   Test_data -> [30 60 70 80 90]\n",
      "Train_data -> [10, 20, 60, 70, 90, 20, 90, 40, 50, 50]   Test_data -> [ 30  80 100]\n",
      "Train_data -> [50, 90, 20, 30, 90, 90, 20, 80, 70, 50]   Test_data -> [ 10  40  60 100]\n",
      "Train_data -> [100, 50, 100, 100, 40, 30, 10, 60, 10, 80]   Test_data -> [20 70 90]\n",
      "Train_data -> [90, 10, 100, 60, 50, 50, 80, 30, 60, 60]   Test_data -> [20 40 70]\n",
      "Train_data -> [60, 50, 40, 90, 30, 90, 90, 100, 80, 60]   Test_data -> [10 20 70]\n",
      "Train_data -> [100, 40, 50, 100, 90, 40, 80, 70, 20, 30]   Test_data -> [10 60]\n",
      "Train_data -> [80, 70, 50, 90, 40, 10, 30, 10, 100, 30]   Test_data -> [20 60]\n",
      "Train_data -> [50, 90, 90, 100, 60, 10, 30, 10, 100, 60]   Test_data -> [20 40 70 80]\n",
      "Train_data -> [100, 30, 20, 60, 40, 60, 90, 30, 10, 60]   Test_data -> [50 70 80]\n",
      "Train_data -> [30, 80, 10, 10, 40, 40, 20, 30, 30, 80]   Test_data -> [ 50  60  70  90 100]\n",
      "Train_data -> [50, 10, 30, 10, 70, 80, 60, 80, 60, 10]   Test_data -> [ 20  40  90 100]\n",
      "Train_data -> [10, 90, 50, 30, 30, 100, 50, 40, 60, 20]   Test_data -> [70 80]\n",
      "Train_data -> [50, 10, 20, 40, 60, 40, 70, 30, 40, 20]   Test_data -> [ 80  90 100]\n",
      "Train_data -> [100, 10, 60, 50, 30, 80, 50, 70, 40, 40]   Test_data -> [20 90]\n",
      "Train_data -> [80, 80, 100, 90, 20, 80, 60, 50, 60, 40]   Test_data -> [10 30 70]\n",
      "Train_data -> [40, 70, 60, 90, 50, 40, 60, 70, 90, 90]   Test_data -> [ 10  20  30  80 100]\n",
      "Train_data -> [30, 50, 20, 10, 50, 100, 60, 40, 20, 20]   Test_data -> [70 80 90]\n",
      "Train_data -> [90, 20, 80, 20, 80, 30, 40, 70, 100, 90]   Test_data -> [10 50 60]\n",
      "Train_data -> [10, 40, 20, 20, 90, 50, 100, 100, 20, 70]   Test_data -> [30 60 80]\n",
      "Train_data -> [40, 70, 100, 90, 60, 70, 90, 20, 60, 70]   Test_data -> [10 30 50 80]\n",
      "Train_data -> [40, 40, 40, 20, 90, 80, 90, 30, 60, 30]   Test_data -> [ 10  50  70 100]\n",
      "Train_data -> [70, 40, 30, 50, 70, 90, 40, 20, 60, 50]   Test_data -> [ 10  80 100]\n",
      "Train_data -> [60, 70, 60, 10, 70, 30, 90, 100, 10, 90]   Test_data -> [20 40 50 80]\n",
      "Train_data -> [80, 50, 70, 80, 60, 40, 10, 40, 40, 30]   Test_data -> [ 20  90 100]\n",
      "Train_data -> [80, 20, 90, 40, 10, 80, 20, 60, 60, 60]   Test_data -> [ 30  50  70 100]\n",
      "Train_data -> [10, 90, 20, 80, 10, 20, 10, 30, 40, 50]   Test_data -> [ 60  70 100]\n",
      "Train_data -> [10, 10, 40, 100, 10, 80, 20, 80, 10, 50]   Test_data -> [30 60 70 90]\n",
      "Train_data -> [40, 20, 40, 100, 100, 10, 20, 20, 20, 20]   Test_data -> [30 50 60 70 80 90]\n",
      "Train_data -> [60, 50, 80, 90, 60, 50, 80, 80, 60, 30]   Test_data -> [ 10  20  40  70 100]\n",
      "Train_data -> [40, 70, 100, 50, 100, 100, 20, 70, 100, 90]   Test_data -> [10 30 60 80]\n",
      "Train_data -> [100, 70, 90, 90, 40, 70, 50, 10, 70, 60]   Test_data -> [20 30 80]\n",
      "Train_data -> [90, 100, 80, 50, 70, 40, 60, 100, 70, 10]   Test_data -> [20 30]\n",
      "Train_data -> [100, 30, 100, 50, 30, 80, 10, 20, 50, 100]   Test_data -> [40 60 70 90]\n",
      "Train_data -> [80, 20, 40, 50, 10, 20, 80, 100, 100, 70]   Test_data -> [30 60 90]\n",
      "Train_data -> [40, 40, 100, 30, 40, 10, 70, 50, 30, 70]   Test_data -> [20 60 80 90]\n",
      "Train_data -> [40, 20, 20, 50, 50, 20, 50, 80, 60, 40]   Test_data -> [ 10  30  70  90 100]\n",
      "Train_data -> [70, 20, 10, 70, 90, 40, 40, 10, 100, 90]   Test_data -> [30 50 60 80]\n",
      "Train_data -> [40, 40, 40, 30, 100, 90, 100, 20, 100, 50]   Test_data -> [10 60 70 80]\n",
      "Train_data -> [100, 40, 70, 90, 10, 100, 40, 70, 20, 100]   Test_data -> [30 50 60 80]\n",
      "Train_data -> [60, 20, 70, 100, 10, 90, 70, 90, 100, 10]   Test_data -> [30 40 50 80]\n",
      "Train_data -> [10, 40, 90, 40, 60, 80, 80, 80, 100, 40]   Test_data -> [20 30 50 70]\n",
      "Train_data -> [50, 50, 60, 100, 80, 20, 70, 60, 20, 90]   Test_data -> [10 30 40]\n",
      "Train_data -> [100, 100, 10, 100, 30, 20, 20, 50, 90, 90]   Test_data -> [40 60 70 80]\n",
      "Train_data -> [50, 90, 70, 30, 50, 40, 50, 50, 80, 70]   Test_data -> [ 10  20  60 100]\n",
      "Train_data -> [100, 20, 70, 50, 80, 90, 100, 90, 70, 30]   Test_data -> [10 40 60]\n",
      "Train_data -> [60, 30, 20, 80, 80, 30, 60, 60, 10, 100]   Test_data -> [40 50 70 90]\n"
     ]
    }
   ],
   "source": [
    "from sklearn.utils import resample\n",
    "import numpy as np\n",
    "\n",
    "# load dataset\n",
    "data = [10,20,30,40,50,60,70,80,90,100]   # original data with 10 data points\n",
    "\n",
    "# configure bootstrap\n",
    "n_iterations = 50              # picking only 50 % of the given data in every bootstrap sample\n",
    "n_size = int(len(data) * 1)    # Number of bootstrap samples to create = 10\n",
    "\n",
    "# run bootstrap\n",
    "stats = list()\n",
    "for i in range(n_iterations):\n",
    "\t# prepare train and test sets\n",
    "\ttrain = resample(data, n_samples=n_size)  # Sampling with replacement \n",
    "\ttest = np.array([x for x in data if x not in train])  # picking rest of the data not considered in sample\n",
    "\tprint(\"Train_data ->\", train, \" \" , \"Test_data ->\", test)\n",
    "    "
   ]
  },
  {
   "cell_type": "code",
   "execution_count": null,
   "metadata": {},
   "outputs": [],
   "source": []
  }
 ],
 "metadata": {
  "kernelspec": {
   "display_name": "Python 3",
   "language": "python",
   "name": "python3"
  },
  "language_info": {
   "codemirror_mode": {
    "name": "ipython",
    "version": 3
   },
   "file_extension": ".py",
   "mimetype": "text/x-python",
   "name": "python",
   "nbconvert_exporter": "python",
   "pygments_lexer": "ipython3",
   "version": "3.7.0"
  }
 },
 "nbformat": 4,
 "nbformat_minor": 2
}
